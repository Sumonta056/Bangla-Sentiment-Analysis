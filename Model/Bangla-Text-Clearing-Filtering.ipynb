{
 "cells": [
  {
   "cell_type": "code",
   "execution_count": 9,
   "metadata": {},
   "outputs": [
    {
     "name": "stdout",
     "output_type": "stream",
     "text": [
      "Requirement already satisfied: bnlp_toolkit in c:\\users\\sumon\\appdata\\local\\programs\\python\\python311\\lib\\site-packages (4.0.0)\n",
      "Requirement already satisfied: sentencepiece in c:\\users\\sumon\\appdata\\local\\programs\\python\\python311\\lib\\site-packages (from bnlp_toolkit) (0.2.0)\n",
      "Requirement already satisfied: gensim in c:\\users\\sumon\\appdata\\local\\programs\\python\\python311\\lib\\site-packages (from bnlp_toolkit) (4.3.2)\n",
      "Requirement already satisfied: nltk in c:\\users\\sumon\\appdata\\local\\programs\\python\\python311\\lib\\site-packages (from bnlp_toolkit) (3.8.1)\n",
      "Requirement already satisfied: numpy in c:\\users\\sumon\\appdata\\local\\programs\\python\\python311\\lib\\site-packages (from bnlp_toolkit) (1.26.3)\n",
      "Requirement already satisfied: scipy in c:\\users\\sumon\\appdata\\local\\programs\\python\\python311\\lib\\site-packages (from bnlp_toolkit) (1.12.0)\n",
      "Requirement already satisfied: sklearn-crfsuite in c:\\users\\sumon\\appdata\\local\\programs\\python\\python311\\lib\\site-packages (from bnlp_toolkit) (0.3.6)\n",
      "Requirement already satisfied: tqdm in c:\\users\\sumon\\appdata\\local\\programs\\python\\python311\\lib\\site-packages (from bnlp_toolkit) (4.66.2)\n",
      "Requirement already satisfied: ftfy in c:\\users\\sumon\\appdata\\local\\programs\\python\\python311\\lib\\site-packages (from bnlp_toolkit) (6.2.0)\n",
      "Requirement already satisfied: emoji==1.7.0 in c:\\users\\sumon\\appdata\\local\\programs\\python\\python311\\lib\\site-packages (from bnlp_toolkit) (1.7.0)\n",
      "Requirement already satisfied: requests in c:\\users\\sumon\\appdata\\local\\programs\\python\\python311\\lib\\site-packages (from bnlp_toolkit) (2.28.2)\n",
      "Requirement already satisfied: wcwidth<0.3.0,>=0.2.12 in c:\\users\\sumon\\appdata\\roaming\\python\\python311\\site-packages (from ftfy->bnlp_toolkit) (0.2.13)\n",
      "Requirement already satisfied: smart-open>=1.8.1 in c:\\users\\sumon\\appdata\\local\\programs\\python\\python311\\lib\\site-packages (from gensim->bnlp_toolkit) (7.0.1)\n",
      "Requirement already satisfied: click in c:\\users\\sumon\\appdata\\local\\programs\\python\\python311\\lib\\site-packages (from nltk->bnlp_toolkit) (8.1.7)\n",
      "Requirement already satisfied: joblib in c:\\users\\sumon\\appdata\\local\\programs\\python\\python311\\lib\\site-packages (from nltk->bnlp_toolkit) (1.3.2)\n",
      "Requirement already satisfied: regex>=2021.8.3 in c:\\users\\sumon\\appdata\\local\\programs\\python\\python311\\lib\\site-packages (from nltk->bnlp_toolkit) (2023.12.25)\n",
      "Requirement already satisfied: charset-normalizer<4,>=2 in c:\\users\\sumon\\appdata\\local\\programs\\python\\python311\\lib\\site-packages (from requests->bnlp_toolkit) (3.0.1)\n",
      "Requirement already satisfied: idna<4,>=2.5 in c:\\users\\sumon\\appdata\\local\\programs\\python\\python311\\lib\\site-packages (from requests->bnlp_toolkit) (3.4)\n",
      "Requirement already satisfied: urllib3<1.27,>=1.21.1 in c:\\users\\sumon\\appdata\\local\\programs\\python\\python311\\lib\\site-packages (from requests->bnlp_toolkit) (1.26.14)\n",
      "Requirement already satisfied: certifi>=2017.4.17 in c:\\users\\sumon\\appdata\\local\\programs\\python\\python311\\lib\\site-packages (from requests->bnlp_toolkit) (2022.12.7)\n",
      "Requirement already satisfied: python-crfsuite>=0.8.3 in c:\\users\\sumon\\appdata\\local\\programs\\python\\python311\\lib\\site-packages (from sklearn-crfsuite->bnlp_toolkit) (0.9.10)\n",
      "Requirement already satisfied: six in c:\\users\\sumon\\appdata\\local\\programs\\python\\python311\\lib\\site-packages (from sklearn-crfsuite->bnlp_toolkit) (1.16.0)\n",
      "Requirement already satisfied: tabulate in c:\\users\\sumon\\appdata\\local\\programs\\python\\python311\\lib\\site-packages (from sklearn-crfsuite->bnlp_toolkit) (0.9.0)\n",
      "Requirement already satisfied: colorama in c:\\users\\sumon\\appdata\\local\\programs\\python\\python311\\lib\\site-packages (from tqdm->bnlp_toolkit) (0.4.6)\n",
      "Requirement already satisfied: wrapt in c:\\users\\sumon\\appdata\\local\\programs\\python\\python311\\lib\\site-packages (from smart-open>=1.8.1->gensim->bnlp_toolkit) (1.16.0)\n",
      "Note: you may need to restart the kernel to use updated packages.\n"
     ]
    }
   ],
   "source": [
    "%pip install bnlp_toolkit"
   ]
  },
  {
   "cell_type": "code",
   "execution_count": 3,
   "metadata": {},
   "outputs": [
    {
     "name": "stderr",
     "output_type": "stream",
     "text": [
      "c:\\Users\\sumon\\AppData\\Local\\Programs\\Python\\Python311\\Lib\\site-packages\\tqdm\\auto.py:21: TqdmWarning: IProgress not found. Please update jupyter and ipywidgets. See https://ipywidgets.readthedocs.io/en/stable/user_install.html\n",
      "  from .autonotebook import tqdm as notebook_tqdm\n"
     ]
    }
   ],
   "source": [
    "import pandas as pd\n",
    "from bnlp import NLTKTokenizer\n",
    "\n",
    "bnltk = NLTKTokenizer()\n",
    "\n",
    "# Function to clean and tokenize text\n",
    "def clean_and_tokenize(text):\n",
    "    # Tokenize words\n",
    "    word_tokens = bnltk.word_tokenize(text)\n",
    "    return word_tokens  # Return tokenized text as a string"
   ]
  },
  {
   "cell_type": "code",
   "execution_count": 1,
   "metadata": {},
   "outputs": [],
   "source": [
    "def remove_stop_words_punctuation_marks(tokenized_words):\n",
    "    stop_words = []\n",
    "    with open(\"./stop_words.txt\", \"r\", encoding=\"utf-8\") as file:\n",
    "        for line in file:\n",
    "            stop_words.append(line.strip())\n",
    "    \n",
    "    final_words = [word for word in tokenized_words if word not in stop_words]\n",
    "    return \" \".join(final_words)"
   ]
  },
  {
   "cell_type": "code",
   "execution_count": 2,
   "metadata": {},
   "outputs": [
    {
     "ename": "NameError",
     "evalue": "name 'pd' is not defined",
     "output_type": "error",
     "traceback": [
      "\u001b[1;31m---------------------------------------------------------------------------\u001b[0m",
      "\u001b[1;31mNameError\u001b[0m                                 Traceback (most recent call last)",
      "Cell \u001b[1;32mIn[2], line 2\u001b[0m\n\u001b[0;32m      1\u001b[0m excel_file_path \u001b[38;5;241m=\u001b[39m \u001b[38;5;124m\"\u001b[39m\u001b[38;5;124m./Dataset/Chapter-1.xlsx\u001b[39m\u001b[38;5;124m\"\u001b[39m\n\u001b[1;32m----> 2\u001b[0m df \u001b[38;5;241m=\u001b[39m \u001b[43mpd\u001b[49m\u001b[38;5;241m.\u001b[39mread_excel(excel_file_path)\n\u001b[0;32m      3\u001b[0m \u001b[38;5;28mprint\u001b[39m(df)\n",
      "\u001b[1;31mNameError\u001b[0m: name 'pd' is not defined"
     ]
    }
   ],
   "source": [
    "excel_file_path = \"./Dataset/Chapter-1.xlsx\"\n",
    "df = pd.read_excel(excel_file_path)\n",
    "print(df)"
   ]
  },
  {
   "cell_type": "code",
   "execution_count": null,
   "metadata": {},
   "outputs": [],
   "source": [
    "# Apply cleaning and tokenization to the 'Shlok' column\n",
    "df['Tokenized_Words'] = df['Shlok'].apply(clean_and_tokenize)\n",
    "\n",
    "# Remove stop words from tokenized words list\n",
    "df['Final_Words'] = df['Tokenized_Words'].apply(remove_stop_words_punctuation_marks)\n",
    "\n",
    "print(df)\n",
    "\n",
    "# Save the results to a new Excel file\n",
    "output_excel_path = \"DataSet-Cleanned/Cleaned_Chapter-1.xlsx\"\n",
    "df.to_excel(output_excel_path, index=False)\n",
    "\n",
    "print(\"Cleaned data saved to\", output_excel_path)"
   ]
  }
 ],
 "metadata": {
  "kernelspec": {
   "display_name": "venv",
   "language": "python",
   "name": "python3"
  },
  "language_info": {
   "codemirror_mode": {
    "name": "ipython",
    "version": 3
   },
   "file_extension": ".py",
   "mimetype": "text/x-python",
   "name": "python",
   "nbconvert_exporter": "python",
   "pygments_lexer": "ipython3",
   "version": "3.11.2"
  }
 },
 "nbformat": 4,
 "nbformat_minor": 2
}
